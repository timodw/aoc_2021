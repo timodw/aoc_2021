{
 "cells": [
  {
   "cell_type": "markdown",
   "metadata": {},
   "source": [
    "# Imports"
   ]
  },
  {
   "cell_type": "code",
   "execution_count": 1,
   "metadata": {},
   "outputs": [],
   "source": [
    "import numpy as np\n",
    "from time import time"
   ]
  },
  {
   "cell_type": "markdown",
   "metadata": {},
   "source": [
    "# Load input"
   ]
  },
  {
   "cell_type": "code",
   "execution_count": 19,
   "metadata": {
    "scrolled": true
   },
   "outputs": [],
   "source": [
    "#INPUT_FILE = 'test.txt'\n",
    "INPUT_FILE = 'input.txt'"
   ]
  },
  {
   "cell_type": "code",
   "execution_count": 20,
   "metadata": {
    "scrolled": true
   },
   "outputs": [
    {
     "data": {
      "text/plain": [
       "array([4, 1, 1, 4, 1, 2, 1, 4, 1, 3, 4, 4, 1, 5, 5, 1, 3, 1, 1, 1, 4, 4,\n",
       "       3, 1, 5, 3, 1, 2, 5, 1, 1, 5, 1, 1, 4, 1, 1, 1, 1, 2, 1, 5, 3, 4,\n",
       "       4, 1, 1, 1, 1, 1, 1, 1, 1, 1, 2, 1, 1, 1, 1, 1, 5, 1, 1, 1, 4, 1,\n",
       "       2, 3, 5, 1, 2, 2, 4, 1, 4, 4, 4, 1, 2, 5, 1, 2, 1, 1, 1, 1, 1, 1,\n",
       "       4, 1, 1, 4, 3, 4, 2, 1, 3, 1, 1, 1, 3, 5, 5, 4, 3, 4, 1, 5, 1, 1,\n",
       "       1, 2, 2, 1, 3, 1, 2, 4, 1, 1, 3, 3, 1, 3, 3, 1, 1, 3, 1, 5, 1, 1,\n",
       "       3, 1, 1, 1, 5, 4, 1, 1, 1, 1, 4, 1, 1, 3, 5, 4, 3, 1, 1, 5, 4, 1,\n",
       "       1, 2, 5, 4, 2, 1, 4, 1, 1, 1, 1, 3, 1, 1, 1, 1, 4, 1, 1, 1, 1, 2,\n",
       "       4, 1, 1, 1, 1, 3, 1, 1, 5, 1, 1, 1, 1, 1, 1, 4, 2, 1, 3, 1, 1, 1,\n",
       "       2, 4, 2, 3, 1, 4, 1, 2, 1, 4, 2, 1, 4, 4, 1, 5, 1, 1, 4, 4, 1, 2,\n",
       "       2, 1, 1, 1, 1, 1, 1, 1, 1, 1, 1, 1, 4, 5, 4, 1, 3, 1, 3, 1, 1, 1,\n",
       "       5, 3, 5, 5, 2, 2, 1, 4, 1, 4, 2, 1, 4, 1, 2, 1, 1, 2, 1, 1, 5, 4,\n",
       "       2, 1, 1, 1, 2, 4, 1, 1, 1, 1, 2, 1, 1, 5, 1, 1, 2, 2, 5, 1, 1, 1,\n",
       "       1, 1, 2, 4, 2, 3, 1, 2, 1, 5, 4, 5, 1, 4], dtype=uint64)"
      ]
     },
     "execution_count": 20,
     "metadata": {},
     "output_type": "execute_result"
    }
   ],
   "source": [
    "input_list = np.genfromtxt(INPUT_FILE, delimiter=',', dtype='uint64')\n",
    "input_list"
   ]
  },
  {
   "cell_type": "markdown",
   "metadata": {},
   "source": [
    "# Part 1"
   ]
  },
  {
   "cell_type": "code",
   "execution_count": 21,
   "metadata": {},
   "outputs": [],
   "source": [
    "N_DAYS = 80"
   ]
  },
  {
   "cell_type": "code",
   "execution_count": 22,
   "metadata": {},
   "outputs": [
    {
     "name": "stdout",
     "output_type": "stream",
     "text": [
      "SOLUTION: 376194, TIME: 3.3679ms\n"
     ]
    }
   ],
   "source": [
    "start_t = time()\n",
    "fish_arr = np.zeros((9,), dtype='uint64')\n",
    "available_days, fish_count = np.unique(input_list, return_counts=True)\n",
    "fish_arr[available_days] = fish_count\n",
    "for _ in range(N_DAYS):\n",
    "    zero_fish = fish_arr[0]\n",
    "    fish_arr = np.roll(fish_arr, shift=-1)\n",
    "    fish_arr[6] += zero_fish\n",
    "    fish_arr[8] = zero_fish\n",
    "solution = fish_arr.sum()\n",
    "end_t = time()\n",
    "print(f'SOLUTION: {solution}, TIME: {round((end_t - start_t) * 1000, 4)}ms')"
   ]
  },
  {
   "cell_type": "markdown",
   "metadata": {},
   "source": [
    "# Part 2"
   ]
  },
  {
   "cell_type": "code",
   "execution_count": 23,
   "metadata": {},
   "outputs": [],
   "source": [
    "N_DAYS = 256"
   ]
  },
  {
   "cell_type": "code",
   "execution_count": 24,
   "metadata": {},
   "outputs": [
    {
     "name": "stdout",
     "output_type": "stream",
     "text": [
      "SOLUTION: 1693022481538, TIME: 6.9878ms\n"
     ]
    }
   ],
   "source": [
    "start_t = time()\n",
    "fish_arr = np.zeros((9,), dtype='uint64')\n",
    "available_days, fish_count = np.unique(input_list, return_counts=True)\n",
    "fish_arr[available_days] = fish_count\n",
    "for _ in range(N_DAYS):\n",
    "    zero_fish = fish_arr[0]\n",
    "    fish_arr = np.roll(fish_arr, shift=-1)\n",
    "    fish_arr[6] += zero_fish\n",
    "    fish_arr[8] = zero_fish\n",
    "solution = fish_arr.sum()\n",
    "end_t = time()\n",
    "print(f'SOLUTION: {solution}, TIME: {round((end_t - start_t) * 1000, 4)}ms')"
   ]
  },
  {
   "cell_type": "code",
   "execution_count": null,
   "metadata": {},
   "outputs": [],
   "source": []
  }
 ],
 "metadata": {
  "kernelspec": {
   "display_name": "Python 3",
   "language": "python",
   "name": "python3"
  },
  "language_info": {
   "codemirror_mode": {
    "name": "ipython",
    "version": 3
   },
   "file_extension": ".py",
   "mimetype": "text/x-python",
   "name": "python",
   "nbconvert_exporter": "python",
   "pygments_lexer": "ipython3",
   "version": "3.8.5"
  }
 },
 "nbformat": 4,
 "nbformat_minor": 4
}
