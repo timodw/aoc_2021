{
 "cells": [
  {
   "cell_type": "markdown",
   "metadata": {},
   "source": [
    "# Imports"
   ]
  },
  {
   "cell_type": "code",
   "execution_count": 1,
   "metadata": {},
   "outputs": [],
   "source": [
    "import numpy as np\n",
    "from time import time"
   ]
  },
  {
   "cell_type": "markdown",
   "metadata": {},
   "source": [
    "# Load input"
   ]
  },
  {
   "cell_type": "code",
   "execution_count": 134,
   "metadata": {
    "scrolled": true
   },
   "outputs": [],
   "source": [
    "INPUT_FILE = 'test.txt'\n",
    "#INPUT_FILE = 'input.txt'"
   ]
  },
  {
   "cell_type": "code",
   "execution_count": 135,
   "metadata": {
    "scrolled": true
   },
   "outputs": [],
   "source": [
    "input_list = np.genfromtxt(INPUT_FILE, delimiter=' -> ', dtype='str')\n",
    "mapper = np.vectorize(lambda x: (int(x.split(',')[0]), int(x.split(',')[1])))\n",
    "line_starts = np.vstack(mapper(input_list[:, 0])).T\n",
    "line_ends = np.vstack(mapper(input_list[:, 1])).T"
   ]
  },
  {
   "cell_type": "markdown",
   "metadata": {},
   "source": [
    "# Part 1"
   ]
  },
  {
   "cell_type": "code",
   "execution_count": 136,
   "metadata": {},
   "outputs": [
    {
     "name": "stdout",
     "output_type": "stream",
     "text": [
      "SOLUTION: 5, TIME: 1.097ms\n"
     ]
    }
   ],
   "source": [
    "start_t = time()\n",
    "grid_size = max(line_starts.max(), line_ends.max()) + 1\n",
    "grid = np.zeros((grid_size, grid_size), dtype='uint64')\n",
    "\n",
    "lines = np.concatenate([line_starts, line_ends], axis=1)\n",
    "\n",
    "hor_filtered_lines = lines[lines[:, 1] == lines[:, 3]]\n",
    "ver_filtered_lines = lines[lines[:, 0] == lines[:, 2]]\n",
    "\n",
    "for line in hor_filtered_lines:\n",
    "    line_start = min(line[0], line[2])\n",
    "    line_end = max(line[0], line[2]) + 1\n",
    "    grid[line[1], line_start:line_end] += 1\n",
    "\n",
    "for line in ver_filtered_lines:\n",
    "    line_start = min(line[1], line[3])\n",
    "    line_end = max(line[1], line[3]) + 1\n",
    "    grid[line_start:line_end, line[0]] += 1 \n",
    "    \n",
    "solution = np.sum(grid >= 2)\n",
    "end_t = time()\n",
    "print(f'SOLUTION: {solution}, TIME: {round((end_t - start_t) * 1000, 4)}ms')"
   ]
  },
  {
   "cell_type": "markdown",
   "metadata": {},
   "source": [
    "# Part 2"
   ]
  },
  {
   "cell_type": "code",
   "execution_count": 141,
   "metadata": {},
   "outputs": [
    {
     "name": "stdout",
     "output_type": "stream",
     "text": [
      "SOLUTION: 11, TIME: 1.3201ms\n"
     ]
    }
   ],
   "source": [
    "start_t = time()\n",
    "grid_size = max(line_starts.max(), line_ends.max()) + 1\n",
    "grid = np.zeros((grid_size, grid_size), dtype='uint64')\n",
    "\n",
    "lines = np.concatenate([line_starts, line_ends], axis=1)\n",
    "\n",
    "hor_filter = lines[:, 1] == lines[:, 3]\n",
    "ver_filter = lines[:, 0] == lines[:, 2]\n",
    "diag_filter = ~(hor_filter | ver_filter)\n",
    "\n",
    "hor_filtered_lines = lines[hor_filter]\n",
    "ver_filtered_lines = lines[ver_filter]\n",
    "right_diagonal_filtered_lines = lines[diag_filter \n",
    "                                      & (((lines[:, 1] < lines[:, 3]) & (lines[:, 0] < lines[:, 2])) | ((lines[:, 3] < lines[:, 1]) & (lines[:, 2] < lines[:, 0])))]\n",
    "left_diagonal_filtered_lines = lines[diag_filter \n",
    "                                     & (((lines[:, 1] < lines[:, 3]) & (lines[:, 0] > lines[:, 2])) | ((lines[:, 3] < lines[:, 1]) & (lines[:, 2] > lines[:, 0])))]\n",
    "\n",
    "for line in hor_filtered_lines:\n",
    "    line_start = min(line[0], line[2])\n",
    "    line_end = max(line[0], line[2]) + 1\n",
    "    grid[line[1], line_start:line_end] += 1\n",
    "\n",
    "for line in ver_filtered_lines:\n",
    "    line_start = min(line[1], line[3])\n",
    "    line_end = max(line[1], line[3]) + 1\n",
    "    grid[line_start:line_end, line[0]] += 1\n",
    "    \n",
    "for line in right_diagonal_filtered_lines:\n",
    "    line_start_ver = min(line[1], line[3])\n",
    "    line_end_ver = max(line[1], line[3])\n",
    "    line_start_hor = min(line[0], line[2])\n",
    "    line_end_hor = max(line[0], line[2])\n",
    "    line_length = line_end_ver - line_start_ver + 1\n",
    "    for i in range(line_length):\n",
    "        grid[line_start_hor + i, line_start_ver + i] += 1\n",
    "        \n",
    "for line in left_diagonal_filtered_lines:\n",
    "    line_start_ver = min(line[1], line[3])\n",
    "    line_end_ver = max(line[1], line[3])\n",
    "    line_start_hor = max(line[0], line[2])\n",
    "    line_end_hor = min(line[0], line[2])\n",
    "    line_length = line_end_ver - line_start_ver\n",
    "    for i in range(line_length):\n",
    "        grid[line_start_hor - i, line_start_ver + i] += 1\n",
    "    \n",
    "solution = np.sum(grid >= 2)\n",
    "end_t = time()\n",
    "print(f'SOLUTION: {solution}, TIME: {round((end_t - start_t) * 1000, 4)}ms')"
   ]
  },
  {
   "cell_type": "code",
   "execution_count": 142,
   "metadata": {},
   "outputs": [
    {
     "data": {
      "text/plain": [
       "(array([[6, 4, 2, 0],\n",
       "        [0, 0, 8, 8]]),\n",
       " array([[8, 0, 0, 8],\n",
       "        [5, 5, 8, 2]]))"
      ]
     },
     "execution_count": 142,
     "metadata": {},
     "output_type": "execute_result"
    }
   ],
   "source": [
    "right_diagonal_filtered_lines, left_diagonal_filtered_lines"
   ]
  },
  {
   "cell_type": "code",
   "execution_count": 143,
   "metadata": {},
   "outputs": [
    {
     "data": {
      "text/plain": [
       "array([[1, 0, 0, 0, 0, 0, 0, 1, 0, 0],\n",
       "       [0, 1, 1, 0, 0, 0, 0, 2, 0, 0],\n",
       "       [1, 0, 2, 0, 0, 0, 1, 1, 0, 0],\n",
       "       [0, 1, 0, 1, 0, 1, 0, 1, 0, 0],\n",
       "       [0, 1, 2, 2, 3, 1, 1, 2, 1, 1],\n",
       "       [0, 0, 0, 2, 0, 1, 0, 0, 0, 0],\n",
       "       [0, 0, 1, 0, 2, 0, 1, 0, 0, 0],\n",
       "       [0, 1, 0, 1, 0, 0, 0, 1, 0, 0],\n",
       "       [1, 0, 1, 0, 0, 0, 0, 0, 1, 0],\n",
       "       [2, 2, 2, 1, 1, 1, 0, 0, 0, 0]], dtype=uint64)"
      ]
     },
     "execution_count": 143,
     "metadata": {},
     "output_type": "execute_result"
    }
   ],
   "source": [
    "grid"
   ]
  },
  {
   "cell_type": "code",
   "execution_count": null,
   "metadata": {},
   "outputs": [],
   "source": [
    "#1010000110\n",
    "#0111000200\n",
    "#0020101110\n",
    "#0001020200\n",
    "#0112313211\n",
    "#0001020000\n",
    "#0010001000\n",
    "#0100000100\n",
    "#1000000010\n",
    "#2221110000"
   ]
  }
 ],
 "metadata": {
  "kernelspec": {
   "display_name": "Python 3",
   "language": "python",
   "name": "python3"
  },
  "language_info": {
   "codemirror_mode": {
    "name": "ipython",
    "version": 3
   },
   "file_extension": ".py",
   "mimetype": "text/x-python",
   "name": "python",
   "nbconvert_exporter": "python",
   "pygments_lexer": "ipython3",
   "version": "3.8.5"
  }
 },
 "nbformat": 4,
 "nbformat_minor": 4
}
