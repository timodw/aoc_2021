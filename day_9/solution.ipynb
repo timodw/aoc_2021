{
 "cells": [
  {
   "cell_type": "markdown",
   "metadata": {},
   "source": [
    "# Imports"
   ]
  },
  {
   "cell_type": "code",
   "execution_count": 13,
   "metadata": {},
   "outputs": [],
   "source": [
    "import numpy as np\n",
    "from time import time\n",
    "import scipy.ndimage as ndimage"
   ]
  },
  {
   "cell_type": "markdown",
   "metadata": {},
   "source": [
    "# Load input"
   ]
  },
  {
   "cell_type": "code",
   "execution_count": 156,
   "metadata": {
    "scrolled": true
   },
   "outputs": [],
   "source": [
    "#INPUT_FILE = 'test.txt'\n",
    "INPUT_FILE = 'input.txt'"
   ]
  },
  {
   "cell_type": "code",
   "execution_count": 157,
   "metadata": {
    "scrolled": true
   },
   "outputs": [
    {
     "data": {
      "text/plain": [
       "array([[6, 5, 4, ..., 3, 4, 5],\n",
       "       [7, 4, 3, ..., 2, 3, 4],\n",
       "       [6, 5, 4, ..., 4, 4, 9],\n",
       "       ...,\n",
       "       [3, 2, 3, ..., 3, 4, 9],\n",
       "       [2, 1, 2, ..., 4, 5, 8],\n",
       "       [1, 0, 1, ..., 5, 6, 7]])"
      ]
     },
     "execution_count": 157,
     "metadata": {},
     "output_type": "execute_result"
    }
   ],
   "source": [
    "input_list = np.genfromtxt(INPUT_FILE, delimiter=1, dtype='int64')\n",
    "input_list"
   ]
  },
  {
   "cell_type": "markdown",
   "metadata": {},
   "source": [
    "# Part 1"
   ]
  },
  {
   "cell_type": "code",
   "execution_count": 137,
   "metadata": {},
   "outputs": [],
   "source": [
    "def filter_func(x):\n",
    "    x = x.reshape((3, 3))\n",
    "    return x[1, 1] < x[0, 1] and x[1, 1] < x[1, 0] and x[1, 1] < x[1, 2] and x[1, 1] < x[2, 1]"
   ]
  },
  {
   "cell_type": "code",
   "execution_count": 138,
   "metadata": {},
   "outputs": [
    {
     "name": "stdout",
     "output_type": "stream",
     "text": [
      "SOLUTION: 15, TIME: 0.258ms\n"
     ]
    }
   ],
   "source": [
    "start_t = time()\n",
    "solution = (ndimage.generic_filter(input_list, filter_func, size=(3, 3), mode='constant', cval=2**64-1) * (1 + input_list)).sum()\n",
    "end_t = time()\n",
    "print(f'SOLUTION: {solution}, TIME: {round((end_t - start_t) * 1000, 4)}ms')"
   ]
  },
  {
   "cell_type": "markdown",
   "metadata": {},
   "source": [
    "# Part 2"
   ]
  },
  {
   "cell_type": "code",
   "execution_count": 139,
   "metadata": {},
   "outputs": [],
   "source": [
    "def filter_func(x):\n",
    "    x = x.reshape((3, 3))\n",
    "    return x[1, 1] < x[0, 1] and x[1, 1] < x[1, 0] and x[1, 1] < x[1, 2] and x[1, 1] < x[2, 1]"
   ]
  },
  {
   "cell_type": "code",
   "execution_count": 150,
   "metadata": {},
   "outputs": [],
   "source": [
    "def flood_fill(arr, x, y, island_id):\n",
    "    cur_val = arr[x, y]\n",
    "    arr[x, y] = island_id\n",
    "    if cur_val < arr[x - 1, y] < 9:\n",
    "        flood_fill(arr, x - 1, y, island_id)\n",
    "    if cur_val < arr[x, y - 1] < 9:\n",
    "        flood_fill(arr, x, y - 1, island_id)\n",
    "    if cur_val < arr[x + 1, y] < 9:\n",
    "        flood_fill(arr, x + 1, y, island_id)\n",
    "    if cur_val < arr[x, y + 1] < 9:\n",
    "        flood_fill(arr, x, y + 1, island_id)"
   ]
  },
  {
   "cell_type": "code",
   "execution_count": 158,
   "metadata": {},
   "outputs": [
    {
     "name": "stdout",
     "output_type": "stream",
     "text": [
      "SOLUTION: 1564640, TIME: 27.0441ms\n"
     ]
    }
   ],
   "source": [
    "start_t = time()\n",
    "low_points = ndimage.generic_filter(input_list, filter_func, size=(3, 3), mode='constant', cval=2**64-1)\n",
    "\n",
    "padded_input = np.zeros((input_list.shape[0] + 2, input_list.shape[1] + 2), dtype='int64') - 1\n",
    "padded_input[1:-1, 1:-1] = input_list\n",
    "min_island_id = -1\n",
    "for row in range(input_list.shape[0]):\n",
    "    for col in range(input_list.shape[1]):\n",
    "        if low_points[row, col] == 1:\n",
    "            min_island_id -= 1\n",
    "            flood_fill(padded_input, row + 1, col + 1, min_island_id)\n",
    "\n",
    "solution = np.sort(np.unique(padded_input[padded_input < -1], return_counts=True)[1])[-3:].prod()\n",
    "end_t = time()\n",
    "print(f'SOLUTION: {solution}, TIME: {round((end_t - start_t) * 1000, 4)}ms')"
   ]
  },
  {
   "cell_type": "code",
   "execution_count": null,
   "metadata": {},
   "outputs": [],
   "source": []
  }
 ],
 "metadata": {
  "kernelspec": {
   "display_name": "Python 3",
   "language": "python",
   "name": "python3"
  },
  "language_info": {
   "codemirror_mode": {
    "name": "ipython",
    "version": 3
   },
   "file_extension": ".py",
   "mimetype": "text/x-python",
   "name": "python",
   "nbconvert_exporter": "python",
   "pygments_lexer": "ipython3",
   "version": "3.8.5"
  }
 },
 "nbformat": 4,
 "nbformat_minor": 4
}
