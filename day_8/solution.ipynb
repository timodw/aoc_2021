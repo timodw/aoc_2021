{
 "cells": [
  {
   "cell_type": "markdown",
   "metadata": {},
   "source": [
    "# Imports"
   ]
  },
  {
   "cell_type": "code",
   "execution_count": 1,
   "metadata": {},
   "outputs": [],
   "source": [
    "import numpy as np\n",
    "from time import time"
   ]
  },
  {
   "cell_type": "markdown",
   "metadata": {},
   "source": [
    "# Load input"
   ]
  },
  {
   "cell_type": "code",
   "execution_count": 98,
   "metadata": {
    "scrolled": true
   },
   "outputs": [],
   "source": [
    "INPUT_FILE = 'test.txt'\n",
    "#INPUT_FILE = 'input.txt'"
   ]
  },
  {
   "cell_type": "code",
   "execution_count": 99,
   "metadata": {
    "scrolled": true
   },
   "outputs": [
    {
     "data": {
      "text/plain": [
       "array([['be cfbegad cbdgef fgaecd cgeb fdcge agebfd fecdb fabcd edb',\n",
       "        'fdgacbe cefdb cefbgd gcbe'],\n",
       "       ['edbfga begcd cbg gc gcadebf fbgde acbgfd abcde gfcbed gfec',\n",
       "        'fcgedb cgb dgebacf gc'],\n",
       "       ['fgaebd cg bdaec gdafb agbcfd gdcbef bgcad gfac gcb cdgabef',\n",
       "        'cg cg fdcagb cbg'],\n",
       "       ['fbegcd cbd adcefb dageb afcb bc aefdc ecdab fgdeca fcdbega',\n",
       "        'efabcd cedba gadfec cb'],\n",
       "       ['aecbfdg fbg gf bafeg dbefa fcge gcbea fcaegb dgceab fcbdga',\n",
       "        'gecf egdcabf bgf bfgea'],\n",
       "       ['fgeab ca afcebg bdacfeg cfaedg gcfdb baec bfadeg bafgc acf',\n",
       "        'gebdcfa ecba ca fadegcb'],\n",
       "       ['dbcfg fgd bdegcaf fgec aegbdf ecdfab fbedc dacgb gdcebf gf',\n",
       "        'cefg dcbef fcge gbcadfe'],\n",
       "       ['bdfegc cbegaf gecbf dfcage bdacg ed bedf ced adcbefg gebcd',\n",
       "        'ed bcgafe cdgba cbgef'],\n",
       "       ['egadfb cdbfeg cegd fecab cgb gbdefca cg fgcdab egfdb bfceg',\n",
       "        'gbdfcae bgc cg cgb'],\n",
       "       ['gcafb gcf dcaebfg ecagb gf abcdeg gaef cafbge fdbac fegbdc',\n",
       "        'fgae cfgab fg bagce']], dtype='<U58')"
      ]
     },
     "execution_count": 99,
     "metadata": {},
     "output_type": "execute_result"
    }
   ],
   "source": [
    "input_list = np.genfromtxt(INPUT_FILE, delimiter=' | ', dtype='str')\n",
    "input_list"
   ]
  },
  {
   "cell_type": "markdown",
   "metadata": {},
   "source": [
    "# Part 1"
   ]
  },
  {
   "cell_type": "code",
   "execution_count": 100,
   "metadata": {},
   "outputs": [
    {
     "name": "stdout",
     "output_type": "stream",
     "text": [
      "SOLUTION: 26, TIME: 0.2129ms\n"
     ]
    }
   ],
   "source": [
    "start_t = time()\n",
    "string_splitter = lambda x: x.split(' ')\n",
    "outputs = map(string_splitter, input_list[:, 1])\n",
    "solution = 0\n",
    "for line in outputs:\n",
    "    for value in line:\n",
    "        if len(value) in (2, 3, 4, 7):\n",
    "            solution +=1\n",
    "end_t = time()\n",
    "print(f'SOLUTION: {solution}, TIME: {round((end_t - start_t) * 1000, 4)}ms')"
   ]
  },
  {
   "cell_type": "markdown",
   "metadata": {},
   "source": [
    "# Part 2"
   ]
  },
  {
   "cell_type": "code",
   "execution_count": 101,
   "metadata": {
    "scrolled": true
   },
   "outputs": [
    {
     "data": {
      "text/plain": [
       "61229"
      ]
     },
     "execution_count": 101,
     "metadata": {},
     "output_type": "execute_result"
    }
   ],
   "source": [
    "string_splitter = lambda x: x.split(' ')\n",
    "pattern_list = map(string_splitter, input_list[:, 0])\n",
    "output_list = map(string_splitter, input_list[:, 1])\n",
    "\n",
    "solution = 0\n",
    "for patterns, outputs in zip(pattern_list, output_list):\n",
    "    segment_7 = frozenset([x for x in patterns if len(x) == 3][0])\n",
    "    segment_1 = frozenset([x for x in patterns if len(x) == 2][0])\n",
    "    segment_4 = frozenset([x for x in patterns if len(x) == 4][0])\n",
    "    segment_8 = frozenset([x for x in patterns if len(x) == 7][0])\n",
    "    top_segment = frozenset(segment_7) - set(segment_1)\n",
    "    \n",
    "    segments_235 = [x for x in patterns if len(x) == 5]\n",
    "    segment_3 = frozenset(segments_235[[i for i, x in enumerate(segments_235) if len(set(x) & set(segment_1)) == 2][0]])\n",
    "    \n",
    "    bottom_segment = segment_3 - segment_4 - segment_7\n",
    "    \n",
    "    middle_segment = segment_3 - bottom_segment - top_segment - segment_1\n",
    "    \n",
    "    top_left_segment = segment_4 - middle_segment - segment_1\n",
    "    \n",
    "    segment_5 = [frozenset(x) for x in segments_235 if len(set(x) & top_left_segment) > 0][0]\n",
    "    \n",
    "    bottom_right_segment = segment_1 & segment_5\n",
    "    \n",
    "    top_right_segment = segment_1 - bottom_right_segment\n",
    "    \n",
    "    bottom_left_segment = segment_8 - top_segment - middle_segment - bottom_segment - top_right_segment - bottom_right_segment - top_left_segment\n",
    "    \n",
    "    set_number_mapping = {\n",
    "        segment_8 - middle_segment: 0,\n",
    "        segment_1: 1,\n",
    "        segment_8 - top_left_segment - bottom_right_segment: 2,\n",
    "        segment_3: 3,\n",
    "        segment_4: 4,\n",
    "        segment_5: 5,\n",
    "        segment_8 - top_right_segment: 6,\n",
    "        segment_7: 7,\n",
    "        segment_8: 8,\n",
    "        segment_8 - bottom_left_segment: 9\n",
    "    }\n",
    "    total_number = 0\n",
    "    for i, output in enumerate(outputs[::-1]):\n",
    "        number = set_number_mapping[frozenset(output)]\n",
    "        total_number += number * 10**i\n",
    "    solution += total_number\n",
    "solution"
   ]
  },
  {
   "cell_type": "code",
   "execution_count": 30,
   "metadata": {},
   "outputs": [
    {
     "name": "stdout",
     "output_type": "stream",
     "text": [
      "SOLUTION: None, TIME: 0.066ms\n"
     ]
    }
   ],
   "source": [
    "start_t = time()\n",
    "solution = None\n",
    "end_t = time()\n",
    "print(f'SOLUTION: {solution}, TIME: {round((end_t - start_t) * 1000, 4)}ms')"
   ]
  },
  {
   "cell_type": "code",
   "execution_count": null,
   "metadata": {},
   "outputs": [],
   "source": []
  }
 ],
 "metadata": {
  "kernelspec": {
   "display_name": "Python 3",
   "language": "python",
   "name": "python3"
  },
  "language_info": {
   "codemirror_mode": {
    "name": "ipython",
    "version": 3
   },
   "file_extension": ".py",
   "mimetype": "text/x-python",
   "name": "python",
   "nbconvert_exporter": "python",
   "pygments_lexer": "ipython3",
   "version": "3.8.5"
  }
 },
 "nbformat": 4,
 "nbformat_minor": 4
}
