{
 "cells": [
  {
   "cell_type": "markdown",
   "metadata": {},
   "source": [
    "# Imports"
   ]
  },
  {
   "cell_type": "code",
   "execution_count": 1,
   "metadata": {},
   "outputs": [],
   "source": [
    "import numpy as np\n",
    "from time import time"
   ]
  },
  {
   "cell_type": "markdown",
   "metadata": {},
   "source": [
    "# Load input"
   ]
  },
  {
   "cell_type": "code",
   "execution_count": 62,
   "metadata": {
    "scrolled": true
   },
   "outputs": [],
   "source": [
    "#INPUT_FILE = 'test.txt'\n",
    "INPUT_FILE = 'input.txt'"
   ]
  },
  {
   "cell_type": "code",
   "execution_count": 63,
   "metadata": {},
   "outputs": [],
   "source": [
    "moves = np.genfromtxt(INPUT_FILE, usecols=[0, ], converters={0: lambda x: chr(x[0])})\n",
    "magnitudes = np.genfromtxt(INPUT_FILE, usecols=[1, ], dtype='int64')"
   ]
  },
  {
   "cell_type": "markdown",
   "metadata": {},
   "source": [
    "# Part 1"
   ]
  },
  {
   "cell_type": "code",
   "execution_count": 51,
   "metadata": {},
   "outputs": [
    {
     "name": "stdout",
     "output_type": "stream",
     "text": [
      "SOLUTION: 2039256, TIME: 0.6049ms\n"
     ]
    }
   ],
   "source": [
    "start_t = time()\n",
    "hor_moves = magnitudes[moves == 'f']\n",
    "down_moves = magnitudes[moves == 'd']\n",
    "up_moves = magnitudes[moves == 'u']\n",
    "solution = hor_moves.sum() * (down_moves.sum() - up_moves.sum())\n",
    "end_t = time()\n",
    "print(f'SOLUTION: {solution}, TIME: {round((end_t - start_t) * 1000, 4)}ms')"
   ]
  },
  {
   "cell_type": "markdown",
   "metadata": {},
   "source": [
    "# Part 2"
   ]
  },
  {
   "cell_type": "code",
   "execution_count": 64,
   "metadata": {},
   "outputs": [
    {
     "name": "stdout",
     "output_type": "stream",
     "text": [
      "SOLUTION: 1856459736, TIME: 1.0879ms\n"
     ]
    }
   ],
   "source": [
    "start_t = time()\n",
    "hor_moves = magnitudes[moves == 'f']\n",
    "down_moves = magnitudes[moves == 'd']\n",
    "up_moves = magnitudes[moves == 'u']\n",
    "\n",
    "aims = np.zeros_like(magnitudes)\n",
    "aims += np.where(moves == 'd', magnitudes, 0)\n",
    "aims -= np.where(moves == 'u', magnitudes, 0)\n",
    "aims = np.cumsum(aims)\n",
    "\n",
    "hor_moves = magnitudes[moves == 'f']\n",
    "ver_moves = aims[moves == 'f'] * hor_moves\n",
    "\n",
    "solution = hor_moves.sum() * ver_moves.sum()\n",
    "end_t = time()\n",
    "print(f'SOLUTION: {solution}, TIME: {round((end_t - start_t) * 1000, 4)}ms')"
   ]
  },
  {
   "cell_type": "code",
   "execution_count": null,
   "metadata": {},
   "outputs": [],
   "source": []
  }
 ],
 "metadata": {
  "kernelspec": {
   "display_name": "Python 3",
   "language": "python",
   "name": "python3"
  },
  "language_info": {
   "codemirror_mode": {
    "name": "ipython",
    "version": 3
   },
   "file_extension": ".py",
   "mimetype": "text/x-python",
   "name": "python",
   "nbconvert_exporter": "python",
   "pygments_lexer": "ipython3",
   "version": "3.8.5"
  }
 },
 "nbformat": 4,
 "nbformat_minor": 4
}
