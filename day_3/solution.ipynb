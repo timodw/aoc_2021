{
 "cells": [
  {
   "cell_type": "markdown",
   "metadata": {},
   "source": [
    "# Imports"
   ]
  },
  {
   "cell_type": "code",
   "execution_count": 1,
   "metadata": {},
   "outputs": [],
   "source": [
    "import numpy as np\n",
    "from time import time"
   ]
  },
  {
   "cell_type": "markdown",
   "metadata": {},
   "source": [
    "# Load input"
   ]
  },
  {
   "cell_type": "code",
   "execution_count": 103,
   "metadata": {
    "scrolled": true
   },
   "outputs": [],
   "source": [
    "#INPUT_FILE = 'test.txt'\n",
    "INPUT_FILE = 'input.txt'"
   ]
  },
  {
   "cell_type": "code",
   "execution_count": 104,
   "metadata": {
    "scrolled": true
   },
   "outputs": [
    {
     "data": {
      "text/plain": [
       "array([[1, 1, 1, ..., 1, 1, 1],\n",
       "       [1, 1, 0, ..., 1, 0, 1],\n",
       "       [1, 1, 0, ..., 0, 1, 1],\n",
       "       ...,\n",
       "       [0, 0, 1, ..., 0, 0, 0],\n",
       "       [1, 1, 1, ..., 0, 0, 1],\n",
       "       [1, 1, 0, ..., 0, 1, 0]], dtype=uint64)"
      ]
     },
     "execution_count": 104,
     "metadata": {},
     "output_type": "execute_result"
    }
   ],
   "source": [
    "input_list = np.genfromtxt(INPUT_FILE, delimiter=1, dtype='uint64')\n",
    "input_list"
   ]
  },
  {
   "cell_type": "markdown",
   "metadata": {},
   "source": [
    "# Part 1"
   ]
  },
  {
   "cell_type": "code",
   "execution_count": 105,
   "metadata": {},
   "outputs": [
    {
     "name": "stdout",
     "output_type": "stream",
     "text": [
      "SOLUTION: 2724524, TIME: 0.5059ms\n"
     ]
    }
   ],
   "source": [
    "start_t = time()\n",
    "gamma_bool = input_list.sum(axis=0) > input_list.shape[0] // 2\n",
    "gamma_bin = 1 * gamma_bool\n",
    "gamma = gamma_bin.dot(1 << np.arange(gamma_bin.shape[-1] - 1, -1, -1))\n",
    "epsilon_bin = ~gamma_bool\n",
    "epsilon = epsilon_bin.dot(1 << np.arange(gamma_bin.shape[-1] - 1, -1, -1))\n",
    "solution = gamma * epsilon\n",
    "end_t = time()\n",
    "print(f'SOLUTION: {solution}, TIME: {round((end_t - start_t) * 1000, 4)}ms')"
   ]
  },
  {
   "cell_type": "markdown",
   "metadata": {},
   "source": [
    "# Part 2"
   ]
  },
  {
   "cell_type": "code",
   "execution_count": 106,
   "metadata": {},
   "outputs": [
    {
     "name": "stdout",
     "output_type": "stream",
     "text": [
      "SOLUTION: 2775870, TIME: 2.8651ms\n"
     ]
    }
   ],
   "source": [
    "start_t = time()\n",
    "mask = np.ones(input_list.shape[:1], dtype='bool')\n",
    "input_list_bin = input_list.astype('bool')\n",
    "index = 0\n",
    "while mask.sum() > 1:\n",
    "    counts = mask @ input_list\n",
    "    if counts[index] >= np.ceil(mask.sum() / 2):\n",
    "        mask &= input_list_bin[:, index]\n",
    "    else:\n",
    "        mask &= ~input_list_bin[:, index]\n",
    "    index += 1\n",
    "\n",
    "oxy_bin = mask @ input_list\n",
    "oxy = oxy_bin.dot(1 << np.arange(oxy_bin.shape[-1] - 1, -1, -1)).astype('uint64')\n",
    "\n",
    "mask = np.ones(input_list.shape[:1], dtype='bool')\n",
    "input_list_bin = input_list.astype('bool')\n",
    "index = 0\n",
    "while mask.sum() > 1:\n",
    "    counts = mask @ input_list\n",
    "    if counts[index] >= np.ceil(mask.sum() / 2):\n",
    "        mask &= ~input_list_bin[:, index]\n",
    "    else:\n",
    "        mask &= input_list_bin[:, index]\n",
    "    index += 1\n",
    "    \n",
    "co2_bin = mask @ input_list\n",
    "co2 = co2_bin.dot(1 << np.arange(co2_bin.shape[-1] - 1, -1, -1)).astype('uint64')\n",
    "\n",
    "solution = oxy * co2\n",
    "end_t = time()\n",
    "print(f'SOLUTION: {solution}, TIME: {round((end_t - start_t) * 1000, 4)}ms')"
   ]
  },
  {
   "cell_type": "code",
   "execution_count": null,
   "metadata": {},
   "outputs": [],
   "source": []
  }
 ],
 "metadata": {
  "kernelspec": {
   "display_name": "Python 3",
   "language": "python",
   "name": "python3"
  },
  "language_info": {
   "codemirror_mode": {
    "name": "ipython",
    "version": 3
   },
   "file_extension": ".py",
   "mimetype": "text/x-python",
   "name": "python",
   "nbconvert_exporter": "python",
   "pygments_lexer": "ipython3",
   "version": "3.8.5"
  }
 },
 "nbformat": 4,
 "nbformat_minor": 4
}
