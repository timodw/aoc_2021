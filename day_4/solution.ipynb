{
 "cells": [
  {
   "cell_type": "markdown",
   "metadata": {},
   "source": [
    "# Imports"
   ]
  },
  {
   "cell_type": "code",
   "execution_count": 1,
   "metadata": {},
   "outputs": [],
   "source": [
    "import numpy as np\n",
    "from time import time"
   ]
  },
  {
   "cell_type": "markdown",
   "metadata": {},
   "source": [
    "# Load input"
   ]
  },
  {
   "cell_type": "code",
   "execution_count": 137,
   "metadata": {
    "scrolled": true
   },
   "outputs": [],
   "source": [
    "#INPUT_FILE = 'test.txt'\n",
    "INPUT_FILE = 'input.txt'"
   ]
  },
  {
   "cell_type": "code",
   "execution_count": 138,
   "metadata": {
    "scrolled": true
   },
   "outputs": [
    {
     "data": {
      "text/plain": [
       "(array([83,  5, 71, 61, 88, 55, 95,  6,  0, 97, 20, 16, 27,  7, 79, 25, 81,\n",
       "        29, 22, 52, 43, 21, 53, 59, 99, 18, 35, 96, 51, 93, 14, 77, 15,  3,\n",
       "        57, 28, 58, 17, 50, 32, 74, 63, 76, 84, 65,  9, 62, 67, 48, 12,  8,\n",
       "        68, 31, 19, 36, 85, 98, 30, 91, 89, 66, 80, 75, 47,  4, 23, 60, 70,\n",
       "        87, 90, 13, 38, 56, 34, 46, 24, 41, 92, 37, 49, 73, 10, 94, 26, 42,\n",
       "        40, 33, 54, 86, 82, 72, 39,  2, 45, 78, 11,  1, 44, 69, 64],\n",
       "       dtype=uint64),\n",
       " array([[[97, 62, 17,  5, 79],\n",
       "         [ 1, 99, 98, 80, 84],\n",
       "         [44, 16,  2, 40, 94],\n",
       "         [68, 95, 49, 32,  8],\n",
       "         [38, 35, 23, 89,  3]],\n",
       " \n",
       "        [[48, 53, 59, 99, 43],\n",
       "         [77, 24, 62, 50, 27],\n",
       "         [28,  8, 10, 86, 18],\n",
       "         [96,  9, 92, 66, 67],\n",
       "         [20, 55, 87, 52, 31]],\n",
       " \n",
       "        [[79, 51, 62, 33,  5],\n",
       "         [15, 39, 21, 48, 90],\n",
       "         [88, 29,  7, 92, 98],\n",
       "         [87, 49, 84,  6, 14],\n",
       "         [72, 85, 46, 71, 26]],\n",
       " \n",
       "        ...,\n",
       " \n",
       "        [[24, 41, 73, 90, 46],\n",
       "         [55, 91, 63, 86, 44],\n",
       "         [ 0, 74, 72, 47, 76],\n",
       "         [34, 13, 33, 65, 62],\n",
       "         [49, 75, 10, 15, 27]],\n",
       " \n",
       "        [[85, 63, 62, 11, 38],\n",
       "         [53, 29,  2,  8, 13],\n",
       "         [87, 64, 31, 69, 58],\n",
       "         [88, 84, 17,  3, 26],\n",
       "         [ 5, 32, 23, 33, 39]],\n",
       " \n",
       "        [[25,  8, 81, 29, 95],\n",
       "         [65, 56, 86, 34, 17],\n",
       "         [38, 66, 85, 43, 26],\n",
       "         [39, 12, 70, 32, 19],\n",
       "         [49, 68, 10,  4, 13]]], dtype=uint64))"
      ]
     },
     "execution_count": 138,
     "metadata": {},
     "output_type": "execute_result"
    }
   ],
   "source": [
    "drawn_numbers = np.genfromtxt(INPUT_FILE, max_rows=1, delimiter=',', dtype='uint64')\n",
    "grids = np.genfromtxt(INPUT_FILE, skip_header=2, dtype='uint64').reshape((-1, 5, 5))\n",
    "drawn_numbers, grids"
   ]
  },
  {
   "cell_type": "markdown",
   "metadata": {},
   "source": [
    "# Part 1"
   ]
  },
  {
   "cell_type": "code",
   "execution_count": 139,
   "metadata": {},
   "outputs": [
    {
     "name": "stdout",
     "output_type": "stream",
     "text": [
      "SOLUTION: 16716, TIME: 2.7189ms\n"
     ]
    }
   ],
   "source": [
    "start_t = time()\n",
    "marked_numbers = np.zeros_like(grids, dtype='bool')\n",
    "for drawn_number in drawn_numbers:\n",
    "    marked_numbers[np.nonzero(grids == drawn_number)] = True\n",
    "    sum_ver = marked_numbers.sum(axis=1)\n",
    "    sum_hor = marked_numbers.sum(axis=2)\n",
    "    if sum_ver.max() == 5:\n",
    "        winning_card = sum_ver.max(axis=1).argmax()\n",
    "        break\n",
    "    elif sum_hor.max() == 5:\n",
    "        winning_card = sum_hor.max(axis=1).argmax()\n",
    "        break\n",
    "solution = (~marked_numbers[winning_card] * grids[winning_card]).sum() * drawn_number\n",
    "end_t = time()\n",
    "print(f'SOLUTION: {solution}, TIME: {round((end_t - start_t) * 1000, 4)}ms')"
   ]
  },
  {
   "cell_type": "markdown",
   "metadata": {},
   "source": [
    "# Part 2"
   ]
  },
  {
   "cell_type": "code",
   "execution_count": 140,
   "metadata": {},
   "outputs": [
    {
     "name": "stdout",
     "output_type": "stream",
     "text": [
      "SOLUTION: 4880, TIME: 10.3929ms\n"
     ]
    }
   ],
   "source": [
    "start_t = time()\n",
    "marked_numbers = np.zeros_like(grids, dtype='bool')\n",
    "winning_cards = None\n",
    "for drawn_number in drawn_numbers:\n",
    "    marked_numbers[np.nonzero(grids == drawn_number)] = True\n",
    "    sum_ver = marked_numbers.sum(axis=1)\n",
    "    sum_hor = marked_numbers.sum(axis=2)\n",
    "    if sum_ver.max() == 5:\n",
    "        winning_cards = np.nonzero(sum_ver.max(axis=1) == 5)\n",
    "    elif sum_hor.max() == 5:\n",
    "        winning_cards = np.nonzero(sum_hor.max(axis=1) == 5)\n",
    "    if winning_cards is not None:\n",
    "        last_card = grids[winning_cards[0]].copy()\n",
    "        last_marked = marked_numbers[winning_cards[0]].copy()\n",
    "        last_drawn = drawn_number\n",
    "        grids[winning_cards[0]] = np.zeros_like(grids[winning_cards[0]])\n",
    "        marked_numbers[winning_cards[0]] = np.zeros_like(marked_numbers[winning_cards[0]])\n",
    "        winning_cards = None\n",
    "\n",
    "solution = (~last_marked * last_card).sum() * last_drawn\n",
    "end_t = time()\n",
    "print(f'SOLUTION: {solution}, TIME: {round((end_t - start_t) * 1000, 4)}ms')"
   ]
  }
 ],
 "metadata": {
  "kernelspec": {
   "display_name": "Python 3",
   "language": "python",
   "name": "python3"
  },
  "language_info": {
   "codemirror_mode": {
    "name": "ipython",
    "version": 3
   },
   "file_extension": ".py",
   "mimetype": "text/x-python",
   "name": "python",
   "nbconvert_exporter": "python",
   "pygments_lexer": "ipython3",
   "version": "3.8.5"
  }
 },
 "nbformat": 4,
 "nbformat_minor": 4
}
